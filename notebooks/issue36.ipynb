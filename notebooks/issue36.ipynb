{
 "cells": [
  {
   "cell_type": "markdown",
   "metadata": {},
   "source": [
    "*Note: This message is Jupyter Notebook. You can [download it](https://github.com/bayespy/bayespy-notebooks/blob/master/notebooks/issue36.ipynb) or [run it interactively](http://mybinder.org/repo/bayespy/bayespy-notebooks/notebooks/issue36.ipynb).*\n",
    "\n",
    "I wasn't able to reproduce your RuntimeError. If you could give me a complete code to reproduce that error, I could take a look. There seems to be a bug somewhere. If your doing something wrong, BayesPy should give a more meaningful error instead of that.\n",
    "\n",
    "I wrote here a complete example which should do what you want (I hope). I noticed two mistakes/typos in your Poisson case code. First, you add `rate_parameter` to you `nodes2` although I think you mean `rate_prior`. Second, the shape of `TrainingData[0][i]` is incorrect. You need to transpose it to get shape `(D, sequence_length)`. I added some lines to make this a complete working example:"
   ]
  },
  {
   "cell_type": "code",
   "execution_count": null,
   "metadata": {
    "collapsed": false
   },
   "outputs": [],
   "source": [
    "from bayespy.nodes import Dirichlet\n",
    "K = 3\n",
    "initial_state = Dirichlet(1e-3*np.ones(K))\n",
    "transmat = Dirichlet(1e-3*np.ones((K,K)))\n",
    "\n",
    "from bayespy.nodes import Gamma\n",
    "D = 5\n",
    "rate_prior = Gamma(1e-3, 1e-3, plates=(D,1,K))\n",
    "\n",
    "from bayespy.nodes import Mixture, CategoricalMarkovChain, Poisson\n",
    "Y = []\n",
    "Z = []\n",
    "TrainingData = [\n",
    "    [np.random.poisson(lam=5, size=(D, np.random.poisson(lam=30)))]\n",
    "]\n",
    "for i in range(len(TrainingData[0])):\n",
    "    [D, sequence_length] = TrainingData[0][i].shape\n",
    "    Z.append(CategoricalMarkovChain(initial_state, transmat, states=sequence_length))\n",
    "    Y.append(Mixture(Z[i], Poisson, rate_prior))\n",
    "    Y[i].observe(TrainingData[0][i])\n",
    "\n",
    "# Would like to do this:\n",
    "#nodes = Y + [rate_prior] + Z + [transmat, initial_state]\n",
    "#for z in Z:\n",
    "#    z.initialize_from_random()\n",
    "# But can't until issue number 30 has been fixed.\n",
    "\n",
    "# Thus, use this:\n",
    "nodes = Y + Z + [rate_prior, transmat, initial_state]\n",
    "rate_prior.initialize_from_value(Gamma(10, 10, plates=(D,1,K)).random())\n",
    "\n",
    "from bayespy.inference import VB\n",
    "Q = VB(*nodes)\n",
    "\n",
    "Q.update(repeat=100)"
   ]
  },
  {
   "cell_type": "markdown",
   "metadata": {},
   "source": [
    "Does this help?"
   ]
  }
 ],
 "metadata": {
  "kernelspec": {
   "display_name": "Python 3",
   "language": "python",
   "name": "python3"
  },
  "language_info": {
   "codemirror_mode": {
    "name": "ipython",
    "version": 3
   },
   "file_extension": ".py",
   "mimetype": "text/x-python",
   "name": "python",
   "nbconvert_exporter": "python",
   "pygments_lexer": "ipython3",
   "version": "3.5.0"
  }
 },
 "nbformat": 4,
 "nbformat_minor": 0
}
