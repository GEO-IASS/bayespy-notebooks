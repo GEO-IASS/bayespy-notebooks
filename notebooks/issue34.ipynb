{
 "cells": [
  {
   "cell_type": "markdown",
   "metadata": {},
   "source": [
    "*Note: This message is a Jupyter Notebook available for [download](https://github.com/bayespy/bayespy-notebooks/blob/master/notebooks/issue34.ipynb) or for [interactive session](http://mybinder.org/repo/bayespy/bayespy-notebooks/notebooks/issue34.ipynb). It is a response to BayesPy issue [#34](https://github.com/bayespy/bayespy/issues/34)*.\n",
    "\n",
    "Thanks for the positive feedback! Glad to hear you like the package. :)\n",
    "\n",
    "So, you asked about conditioning `theta3` on both `theta1` and `theta2`. It is easy to do by \"nesting\" `Mixture` nodes as follows:"
   ]
  },
  {
   "cell_type": "code",
   "execution_count": null,
   "metadata": {
    "collapsed": true
   },
   "outputs": [],
   "source": [
    "from bayespy.nodes import Categorical, Beta, Mixture\n",
    "lambda1 = Beta([20,5]) \n",
    "lambda2 = Beta([[5,20],[20,5]])\n",
    "lambda3 = Beta([ [[5,20],[20,5]],\n",
    "                 [[3,40],[40,3]] ])\n",
    "theta1 = Categorical(lambda1)\n",
    "theta2 = Mixture(theta1, Categorical, lambda2)\n",
    "theta3 = Mixture(theta1, Mixture, theta2, Categorical, lambda3)"
   ]
  },
  {
   "cell_type": "markdown",
   "metadata": {},
   "source": [
    "You could use `Gate` nodes as you did. Doesn't really matter in your case. There are cases where only either one works correctly, but in your case it's a matter of preference. With nested `Gate` nodes, `theta3 = Categorical(Gate(theta1, Gate(theta2, lambda3)))` should work. I used `Mixture` so you could see an alternative.\n",
    "\n",
    "I also used `Beta` instead of `Dirichlet`. Doesn't matter, just a thought. And thanks for reporting that `Bernoulli` isn't accepted by `Gate`/`Mixture` node. I made a bug report of it. I used `Mixture` for `X` nodes too, instead of `Gate`, and Bernoulli instead of Binomial with one trial. I also removed `delta` nodes. Don't really affect anything, just another way of writing."
   ]
  },
  {
   "cell_type": "code",
   "execution_count": null,
   "metadata": {
    "collapsed": false
   },
   "outputs": [],
   "source": [
    "pi1 = Beta([[[5,20], [20,5]]], plates=(10,2))\n",
    "pi2 = Beta([[[5,20], [20,5]]], plates=(10,2))\n",
    "pi3 = Beta([[[5,20], [20,5]]], plates=(10,2))\n",
    "\n",
    "from bayespy.nodes import Bernoulli\n",
    "X1 = Mixture(theta1, Bernoulli, pi1)\n",
    "X2 = Mixture(theta2, Bernoulli, pi2)\n",
    "X3 = Mixture(theta3, Bernoulli, pi3)\n",
    "\n",
    "X1.observe([1,1,1,1,1,1,1,1,1,1])\n",
    "X2.observe([0,0,0,0,0,0,0,0,0,0])\n",
    "X3.observe([0,1,0,1,0,1,0,1,0,1])"
   ]
  },
  {
   "cell_type": "markdown",
   "metadata": {},
   "source": [
    "Then just run the inference:"
   ]
  },
  {
   "cell_type": "code",
   "execution_count": null,
   "metadata": {
    "collapsed": false
   },
   "outputs": [],
   "source": [
    "from bayespy.inference import VB\n",
    "Q = VB(X1, X2, X3, pi1, pi2, pi3, theta3, theta2, theta1, lambda1, lambda2, lambda3)\n",
    "Q.update(repeat=100)"
   ]
  },
  {
   "cell_type": "markdown",
   "metadata": {},
   "source": [
    "A minor detail: I list the nodes in such an order that child nodes are before their parents, thus `theta3` is before `theta2`. I think this makes sense when you observe the leave nodes and thus that information flows from children to parents.\n",
    "\n",
    "Finally, you can, for instance, look at the posterior probabilities for `theta`:"
   ]
  },
  {
   "cell_type": "code",
   "execution_count": null,
   "metadata": {
    "collapsed": false
   },
   "outputs": [],
   "source": [
    "print(theta1.get_moments()[0])\n",
    "print(theta2.get_moments()[0])\n",
    "print(theta3.get_moments()[0])"
   ]
  },
  {
   "cell_type": "markdown",
   "metadata": {},
   "source": [
    "You may have noticed that you need to use separate nodes for each `X1`, `X2`, `X3` etc. This is because `theta` nodes have dependencies that can't be represented by any single built-in node but need to be separated. Thus, all the child nodes need to be separate too. If you have a large amount of `X1, ..., Xn` nodes, you probably want to generate them programmatically, maybe using list comprehensions or for loops. There could be a node class to concatenate several nodes into a single \"array\", but it's not implemented yet, and I doubt it would make any significant difference here.\n",
    "\n",
    "I hope this helps. If something was unclear or if I misunderstood something, please comment."
   ]
  },
  {
   "cell_type": "code",
   "execution_count": null,
   "metadata": {
    "collapsed": true
   },
   "outputs": [],
   "source": []
  }
 ],
 "metadata": {
  "kernelspec": {
   "display_name": "Python 3",
   "language": "python",
   "name": "python3"
  },
  "language_info": {
   "codemirror_mode": {
    "name": "ipython",
    "version": 3
   },
   "file_extension": ".py",
   "mimetype": "text/x-python",
   "name": "python",
   "nbconvert_exporter": "python",
   "pygments_lexer": "ipython3",
   "version": "3.5.0"
  }
 },
 "nbformat": 4,
 "nbformat_minor": 0
}
