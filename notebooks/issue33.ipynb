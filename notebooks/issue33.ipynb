{
 "cells": [
  {
   "cell_type": "markdown",
   "metadata": {
    "ein.tags": [
     "worksheet-0"
    ]
   },
   "source": [
    "NOTE: This message is available as Jupyter Notebook in https://github.com/bayespy/bayespy-notebooks/blob/master/notebooks/issue33.ipynb and can be run interactively in Binder: [![Binder](http://mybinder.org/badge.svg)](http://mybinder.org/repo/bayespy/bayespy-notebooks/notebooks/issue33.ipynb)\n",
    "\n",
    "Thanks a lot for the simplification! The problem is that the distribution type of `Mixture` must be a distribution, not a deterministic operation. Here you seem to want `Y` to be a mixture of Gaussians, with mean `X` and precision `1/sigma**2`. You should define `X` with `SumMultiply`, but `Y` as a Gaussian mixture.\n",
    "\n",
    "First, define the cluster assignments:"
   ]
  },
  {
   "cell_type": "code",
   "execution_count": null,
   "metadata": {
    "autoscroll": "json-false",
    "collapsed": false,
    "ein.tags": [
     "worksheet-0"
    ]
   },
   "outputs": [],
   "source": [
    "from bayespy.nodes import Dirichlet, Categorical\n",
    "N = 40 # number of data samples\n",
    "M = 3 # number of clusters (i.e., mixture components)\n",
    "alpha = Dirichlet([1e-3] * M) # cluster probabilities or \"sizes\"\n",
    "theta = Categorical(alpha, plates=(N,)) # assignment for each data sample"
   ]
  },
  {
   "cell_type": "markdown",
   "metadata": {
    "ein.tags": [
     "worksheet-0"
    ]
   },
   "source": [
    "As you observe `r`, is it necessary to give it Gaussian prior? Is it sufficient just to fix it, or do you specifically want to estimate its distribution? I'll assume here that `r` is just some inputs you can use as fixed values. Also, which of your variables `w` and `r` have cluster-specific values? I assume you want to learn different weight vectors `w` for clusters but each input `r` doesn't depend on the cluster. I might be guessing wrong here, so you may need to fix these snippets accordingly. I also assume that `w` is the same for each data sample but `r` is sample-specific. These assumptions affect how I use the plates for `w` and `r`. Easy to change if I have made wrong assumptions."
   ]
  },
  {
   "cell_type": "code",
   "execution_count": null,
   "metadata": {
    "collapsed": true
   },
   "outputs": [],
   "source": [
    "from bayespy.nodes import Gaussian, SumMultiply\n",
    "p = 5 # dimensionality fo w and r\n",
    "import numpy as np\n",
    "w = Gaussian(np.zeros(p), 1e-3*np.identity(p), plates=(1,M)) # weight vectors, no sample plate\n",
    "r = np.random.randn(N, 1, p)  # fixed inputs, no cluster plate\n",
    "X = SumMultiply('i,i->', w, r)"
   ]
  },
  {
   "cell_type": "markdown",
   "metadata": {},
   "source": [
    "Construct the mixture distribution. Again, do you want to have shared or different precision parameter for each cluster? Here I assume different, but that can be modified in the plates."
   ]
  },
  {
   "cell_type": "code",
   "execution_count": null,
   "metadata": {
    "autoscroll": "json-false",
    "collapsed": false,
    "ein.tags": [
     "worksheet-0"
    ]
   },
   "outputs": [],
   "source": [
    "from bayespy.nodes import Mixture, Gamma, GaussianARD\n",
    "tau = Gamma(1e-3, 1e-3, plates=(M,)) # Do you want to have different precision for each cluster?\n",
    "Y = Mixture(theta, GaussianARD, X, tau)"
   ]
  },
  {
   "cell_type": "markdown",
   "metadata": {},
   "source": [
    "Just some random data generated with two different weight vectors:"
   ]
  },
  {
   "cell_type": "code",
   "execution_count": null,
   "metadata": {
    "collapsed": false
   },
   "outputs": [],
   "source": [
    "data1 = np.einsum('...i,...i->...', np.random.randn(p), r)\n",
    "data2 = np.einsum('...i,...i->...', np.random.randn(p), r)\n",
    "data = np.where(np.random.rand(N, 1)>0.5, data1, data2)[:,0]\n",
    "Y.observe(data)"
   ]
  },
  {
   "cell_type": "markdown",
   "metadata": {},
   "source": [
    "Break the symmetry in the model in order to not converge to a bad trivial solution:"
   ]
  },
  {
   "cell_type": "code",
   "execution_count": null,
   "metadata": {
    "collapsed": true
   },
   "outputs": [],
   "source": [
    "theta.initialize_from_random()"
   ]
  },
  {
   "cell_type": "markdown",
   "metadata": {},
   "source": [
    "Create the inference engine:"
   ]
  },
  {
   "cell_type": "code",
   "execution_count": null,
   "metadata": {
    "collapsed": true
   },
   "outputs": [],
   "source": [
    "from bayespy.inference import VB\n",
    "Q = VB(Y, w, tau, theta, alpha)"
   ]
  },
  {
   "cell_type": "markdown",
   "metadata": {},
   "source": [
    "Run VB algorithm:"
   ]
  },
  {
   "cell_type": "code",
   "execution_count": null,
   "metadata": {
    "collapsed": false
   },
   "outputs": [],
   "source": [
    "Q.update(repeat=200)"
   ]
  },
  {
   "cell_type": "markdown",
   "metadata": {},
   "source": [
    "Now you can use the results. For instance, plot the cluster assignments for each sample:"
   ]
  },
  {
   "cell_type": "code",
   "execution_count": null,
   "metadata": {
    "collapsed": false
   },
   "outputs": [],
   "source": [
    "%matplotlib inline\n",
    "import bayespy.plot as bpplt\n",
    "bpplt.hinton(theta)"
   ]
  },
  {
   "cell_type": "markdown",
   "metadata": {},
   "source": [
    "Or plot the weight vectors for each cluster:"
   ]
  },
  {
   "cell_type": "code",
   "execution_count": null,
   "metadata": {
    "collapsed": false
   },
   "outputs": [],
   "source": [
    "bpplt.hinton(w)"
   ]
  },
  {
   "cell_type": "markdown",
   "metadata": {},
   "source": [
    "Does this answer your question? :) I can give more details on some steps if you like. Also, if I misunderstood something (or everything) please correct me. :)"
   ]
  }
 ],
 "metadata": {
  "kernelspec": {
   "display_name": "Python 3",
   "language": "python",
   "name": "python3"
  },
  "language_info": {
   "codemirror_mode": {
    "name": "ipython",
    "version": 3
   },
   "file_extension": ".py",
   "mimetype": "text/x-python",
   "name": "python",
   "nbconvert_exporter": "python",
   "pygments_lexer": "ipython3",
   "version": "3.5.0"
  }
 },
 "nbformat": 4,
 "nbformat_minor": 0
}
