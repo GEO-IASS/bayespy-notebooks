{
 "cells": [
  {
   "cell_type": "markdown",
   "metadata": {},
   "source": [
    "*Note: This message is a Jupyter Notebook available for [download](https://github.com/bayespy/bayespy-notebooks/blob/master/notebooks/issue34c.ipynb) or for [interactive session](http://mybinder.org/repo/bayespy/bayespy-notebooks/notebooks/issue34c.ipynb). It is a response to BayesPy issue [#34](https://github.com/bayespy/bayespy/issues/34).*\n",
    "\n",
    "I fixed the bug in nested mixtures, so they should work now. I emphasize, that even if you had been able to use them before, all the results have been incorrect with almost certainty.\n",
    "\n",
    "I added a convenience function `MultiMixture` which creates a mixture given multiple categorical variables. It hides some complexities. Thus, `MappedCategoricalMixture` simplifies into:"
   ]
  },
  {
   "cell_type": "code",
   "execution_count": 7,
   "metadata": {
    "collapsed": false
   },
   "outputs": [],
   "source": [
    "from bayespy.nodes import *\n",
    "from bayespy.utils import misc\n",
    "def MappedCategoricalMixture(thetas, indices, p, **kwargs):\n",
    "    return MultiMixture(thetas, Categorical, Take(p, indices), **kwargs)"
   ]
  },
  {
   "cell_type": "markdown",
   "metadata": {},
   "source": [
    "Note that you will need to use `develop` branch. And now you should be able to construct the model without errors:"
   ]
  },
  {
   "cell_type": "code",
   "execution_count": 8,
   "metadata": {
    "collapsed": false
   },
   "outputs": [],
   "source": [
    "lambda1 = Dirichlet([5,20])\n",
    "lambda2 = Dirichlet([[20,5], # if lambda1=False\n",
    "                     [5,20]]) # if lambda1=True\n",
    "\n",
    "lambda5 = Dirichlet([[20,5], # none (theta1,theta2) are True\n",
    "                     [12.5,12.5],# exactly one of (theta1,theta2) is True\n",
    "                     [5,20]]) # both of (theta1,theta2) are True\n",
    "\n",
    "numStudents = 11\n",
    "theta1 = Categorical(lambda1, plates=(numStudents,))\n",
    "theta2 = Mixture(theta1, Categorical, lambda2)\n",
    "theta5 = MappedCategoricalMixture([theta1, theta2],\n",
    "                                  [[0, 1], [1, 2]],\n",
    "                                  lambda5)"
   ]
  },
  {
   "cell_type": "markdown",
   "metadata": {},
   "source": [
    "As I wrote all this into BayesPy quite quickly, there might be errors. If you notice any weird issues, please report. And again, please do ask further questions if you have any, this is really helping me to improve BayesPy. Thank you for your patience with all these issues."
   ]
  }
 ],
 "metadata": {
  "kernelspec": {
   "display_name": "Python 3",
   "language": "python",
   "name": "python3"
  },
  "language_info": {
   "codemirror_mode": {
    "name": "ipython",
    "version": 3
   },
   "file_extension": ".py",
   "mimetype": "text/x-python",
   "name": "python",
   "nbconvert_exporter": "python",
   "pygments_lexer": "ipython3",
   "version": "3.5.0"
  }
 },
 "nbformat": 4,
 "nbformat_minor": 0
}
