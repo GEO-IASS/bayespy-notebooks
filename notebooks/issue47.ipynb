{
 "cells": [
  {
   "cell_type": "markdown",
   "metadata": {},
   "source": [
    "*Note: This message is Jupyter Notebook. You can [download it](https://github.com/bayespy/bayespy-notebooks/blob/master/notebooks/issue47.ipynb) or [run it interactively](http://mybinder.org/repo/bayespy/bayespy-notebooks/notebooks/issue47.ipynb).*\n",
    "\n",
    "Ok, I now sketched an implementation of the Dirichlet Persona Model. You should double check that this is what you wanted, I'm not absolutely sure. I think I made at least one minor change: persona distribution is global, not document/movie specific.\n",
    "\n",
    "Anyway, define the configuration"
   ]
  },
  {
   "cell_type": "code",
   "execution_count": null,
   "metadata": {
    "collapsed": true
   },
   "outputs": [],
   "source": [
    "import bayespy as bp\n",
    "import numpy as np\n",
    "\n",
    "numTopics = 10      # number of topics \n",
    "numPersonas = 4     # protagonist, villain, ...\n",
    "numRoles = 3        # agent verb, patient verb, attribute\n",
    "sizeVocabulary = 50 # size of vocabulary\n",
    "#numDocuments = 8   # number of documents (not used now)\n",
    "numCharacters = 15  # total number of characters\n",
    "sizeCorpus = 10000  # size of the dataset"
   ]
  },
  {
   "cell_type": "markdown",
   "metadata": {},
   "source": []
  },
  {
   "cell_type": "code",
   "execution_count": null,
   "metadata": {
    "collapsed": true
   },
   "outputs": [],
   "source": [
    "# Generate random dataset from the model\n",
    "# Data are a set of tuples (word, role, character)\n",
    "# So, each \"datapoint\" has a word-index, role-index and character-index.\n",
    "data_characters = bp.nodes.Categorical(\n",
    "    np.ones(numCharacters) / numCharacters,\n",
    "    plates=(sizeCorpus,)\n",
    ").random()\n",
    "data_roles = bp.nodes.Categorical(\n",
    "    np.ones(numRoles) / numRoles,\n",
    "    plates=(sizeCorpus,)\n",
    ").random()\n",
    "data_personas = bp.nodes.Categorical(\n",
    "    np.ones(numPersonas) / numPersonas,\n",
    "    plates=(numCharacters,)\n",
    ").random()\n",
    "data_topic_dist = bp.nodes.Dirichlet(\n",
    "    np.ones(numTopics),\n",
    "    plates=(numPersonas, numRoles)\n",
    ").random()\n",
    "data_topics = bp.nodes.Categorical(\n",
    "    data_topic_dist[data_personas[data_characters], data_roles]\n",
    ").random()\n",
    "data_word_dist = bp.nodes.Dirichlet(\n",
    "    np.ones(sizeVocabulary) / sizeVocabulary,\n",
    "    plates=(numTopics,)\n",
    ").random()\n",
    "data_words = bp.nodes.Categorical(\n",
    "    data_word_dist[data_topics],\n",
    "    plates=(sizeCorpus,)\n",
    ").random()"
   ]
  },
  {
   "cell_type": "markdown",
   "metadata": {},
   "source": [
    "Below is the model:"
   ]
  },
  {
   "cell_type": "code",
   "execution_count": null,
   "metadata": {
    "collapsed": true
   },
   "outputs": [],
   "source": [
    "# Word distribution for each topic\n",
    "# (numTopics) x (numWords)\n",
    "word_dist_in_topics = bp.nodes.Dirichlet(\n",
    "    np.ones(sizeVocabulary),\n",
    "    plates=(numTopics,)\n",
    ")\n",
    "\n",
    "# Topic distribution for each role and persona\n",
    "# (numPersonas, numRoles) x (numTopics)\n",
    "topic_dist_in_personas_and_roles = bp.nodes.Dirichlet(\n",
    "    np.ones(numTopics),\n",
    "    plates=(numPersonas, numRoles)\n",
    ")\n",
    "\n",
    "# Persona distribution (make this document specific?)\n",
    "persona_dist = bp.nodes.Dirichlet(\n",
    "    np.ones(numPersonas)\n",
    ")\n",
    "\n",
    "# Persona assignments of the characters\n",
    "# (numCharacters) x (numPersonas)\n",
    "personas_of_characters = bp.nodes.Categorical(\n",
    "    persona_dist,\n",
    "    plates=(numCharacters,)\n",
    ")\n",
    "\n",
    "# Persona assignments for each data point (i.e., each word in the corpus)\n",
    "# (sizeCorpus) x (numPersonas)\n",
    "personas = bp.nodes.Gate(\n",
    "    data_characters,\n",
    "    personas_of_characters\n",
    ")\n",
    "\n",
    "# Topic assignment for each data point (i.e., each word in the corpus)\n",
    "# (sizeCorpus) x (numTopics)\n",
    "topics = bp.nodes.Categorical(\n",
    "    bp.nodes.Gate(\n",
    "        personas,\n",
    "        bp.nodes.Gate(\n",
    "            data_roles[:,None], # a trick to make plates match in this case\n",
    "            topic_dist_in_personas_and_roles\n",
    "        )\n",
    "    )\n",
    ")\n",
    "\n",
    "# Words in the corpus\n",
    "# (sizeCorpus) x (sizeVocabulary)\n",
    "words = bp.nodes.Categorical(\n",
    "    bp.nodes.Gate(\n",
    "        topics,\n",
    "        word_dist_in_topics\n",
    "    )\n",
    ")"
   ]
  },
  {
   "cell_type": "markdown",
   "metadata": {},
   "source": [
    "Create VB object, initialize some nodes randomly and observe the data. Note that characters and roles data were used as \"inputs\" in the above model."
   ]
  },
  {
   "cell_type": "code",
   "execution_count": null,
   "metadata": {
    "collapsed": true
   },
   "outputs": [],
   "source": [
    "Q = bp.inference.VB(\n",
    "    words,\n",
    "    word_dist_in_topics,\n",
    "    topics,\n",
    "    topic_dist_in_personas_and_roles,\n",
    "    personas_of_characters,\n",
    "    persona_dist,\n",
    ")\n",
    "topics.initialize_from_random()\n",
    "personas_of_characters.initialize_from_random()\n",
    "topic_dist_in_personas_and_roles.initialize_from_random()\n",
    "persona_dist.initialize_from_random()\n",
    "words.observe(data_words)"
   ]
  },
  {
   "cell_type": "markdown",
   "metadata": {},
   "source": [
    "Run inference:"
   ]
  },
  {
   "cell_type": "code",
   "execution_count": null,
   "metadata": {
    "collapsed": true
   },
   "outputs": [],
   "source": [
    "Q.update(repeat=1000)"
   ]
  },
  {
   "cell_type": "markdown",
   "metadata": {},
   "source": [
    "You can visualize the posterior of the nodes for instance as:"
   ]
  },
  {
   "cell_type": "code",
   "execution_count": null,
   "metadata": {
    "collapsed": true
   },
   "outputs": [],
   "source": [
    "%matplotlib notebook\n",
    "bp.plot.plt.figure(); bp.plot.hinton(personas_of_characters)\n",
    "bp.plot.plt.figure(); bp.plot.hinton(word_dist_in_topics)"
   ]
  },
  {
   "cell_type": "markdown",
   "metadata": {},
   "source": [
    "I hope this helps!"
   ]
  }
 ],
 "metadata": {
  "kernelspec": {
   "display_name": "Python 3",
   "language": "python",
   "name": "python3"
  },
  "language_info": {
   "codemirror_mode": {
    "name": "ipython",
    "version": 3
   },
   "file_extension": ".py",
   "mimetype": "text/x-python",
   "name": "python",
   "nbconvert_exporter": "python",
   "pygments_lexer": "ipython3",
   "version": "3.5.1"
  }
 },
 "nbformat": 4,
 "nbformat_minor": 0
}
